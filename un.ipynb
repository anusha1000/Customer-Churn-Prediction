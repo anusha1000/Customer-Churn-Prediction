import pandas as pd
from sklearn.model_selection import train_test_split
from sklearn.ensemble import RandomForestClassifier 
from sklearn import metrics
from flask import Flask, request, render_template
import pickle
import numpy as np
C:\Users\HP\AppData\Local\Programs\Python\Python311\Lib\site-packages\numpy\_distributor_init.py:30: UserWarning: loaded more than 1 DLL from .libs:
C:\Users\HP\AppData\Local\Programs\Python\Python311\Lib\site-packages\numpy\.libs\libopenblas.FB5AE2TYXYH2IJRDKGDGQ3XBKLKTF43H.gfortran-win_amd64.dll
C:\Users\HP\AppData\Local\Programs\Python\Python311\Lib\site-packages\numpy\.libs\libopenblas64__v0.3.21-gcc_10_3_0.dll
  warnings.warn("loaded more than 1 DLL from .libs:"
app = Flask("__name__")
q = ""

@app.route("/")
def loadPage():
	return render_template('home.html', query="")
@app.route("/", methods=['POST'])
def predict():
    
    '''
    MonthlyCharges
    TotalCharges
    gender
    InternetService
    '''
    

    
    inputQuery1 = request.form['query1']
    inputQuery2 = request.form['query2']
    inputQuery3 = request.form['query3']
    inputQuery4 = request.form['query4']
    inputQuery5 = request.form['query5']
    inputQuery6 = request.form['query6']
    inputQuery7 = request.form['query7']
    model = pickle.load(open("model.sav", "rb"))
    
    data = [[inputQuery1, inputQuery2, inputQuery3, inputQuery4, inputQuery5, inputQuery6, inputQuery7
            ]]
    
    new_df = pd.DataFrame(data, columns = ['Age', 'Gender', 'Location', 'Subscription_Length_Months', 
                                           'Monthly_Bill', 'Total_Charges', 'Total_Usage_GB'])
    pred=np.array(new_df)
    print(pred)
    df_2 = pd.concat([df_1, new_df], ignore_index = True) 
    # Group the tenure in bins of 12 months
    labels = ["{0} - {1}".format(i, i + 11) for i in range(1, 72, 12)]
    
    df_2['age'] = pd.cut(df_2.tenure.astype(int), range(1, 80, 12), right=False, labels=labels)
    #drop column customerID and tenure
    df_2.drop(columns= ['age'], axis=1, inplace=True)   
    
    
    
    
    new_df__dummies = pd.get_dummies(df_2[['Age', 'Gender', 'Location', 'Subscription_Length_Months', 
                                           'Monthly_Bill', 'Total_Charges', 'Total_Usage_GB']])
    
    
   # final_df=pd.concat([new_df__dummies, new_dummy], axis=1)
        
    
    single = model.predict(new_df__dummies.tail(1))
    probablity = model.predict_proba(new_df__dummies.tail(1))[:,1]
    
    if single==1:
        o1 = "This customer is likely to be churned!!"
        o2 = "Confidence: {}".format(probablity*100)
    else:
        o1 = "This customer is likely to continue!!"
        o2 = "Confidence: {}".format(probablity*100)
        
    return render_template('home.html', output1=o1, output2=o2, 
                           query1 = request.form['query1'], 
                           query2 = request.form['query2'],
                           query3 = request.form['query3'],
                           query4 = request.form['query4'],
                           query5 = request.form['query5'], 
                           query6 = request.form['query6'], 
                           query7 = request.form['query7'], 
                           )
---------------------------------------------------------------------------
AssertionError                            Traceback (most recent call last)
Cell In[7], line 1
----> 1 @app.route("/", methods=['POST'])
      2 def predict():
      4     '''
      5     MonthlyCharges
      6     TotalCharges
      7     gender
      8     InternetService
      9     '''
     13     inputQuery1 = request.form['query1']

File ~\AppData\Local\Programs\Python\Python311\Lib\site-packages\flask\scaffold.py:435, in Scaffold.route.<locals>.decorator(f)
    433 def decorator(f: T_route) -> T_route:
    434     endpoint = options.pop("endpoint", None)
--> 435     self.add_url_rule(rule, endpoint, f, **options)
    436     return f

File ~\AppData\Local\Programs\Python\Python311\Lib\site-packages\flask\scaffold.py:50, in setupmethod.<locals>.wrapper_func(self, *args, **kwargs)
     48 def wrapper_func(self, *args: t.Any, **kwargs: t.Any) -> t.Any:
     49     self._check_setup_finished(f_name)
---> 50     return f(self, *args, **kwargs)

File ~\AppData\Local\Programs\Python\Python311\Lib\site-packages\flask\app.py:1059, in Flask.add_url_rule(self, rule, endpoint, view_func, provide_automatic_options, **options)
   1057 old_func = self.view_functions.get(endpoint)
   1058 if old_func is not None and old_func != view_func:
-> 1059     raise AssertionError(
   1060         "View function mapping is overwriting an existing"
   1061         f" endpoint function: {endpoint}"
   1062     )
   1063 self.view_functions[endpoint] = view_func

AssertionError: View function mapping is overwriting an existing endpoint function: predict
app.run()
 * Serving Flask app '__name__'
 * Debug mode: off
WARNING: This is a development server. Do not use it in a production deployment. Use a production WSGI server instead.
 * Running on http://127.0.0.1:5000
Press CTRL+C to quit
127.0.0.1 - - [30/Aug/2023 19:41:34] "GET / HTTP/1.1" 200 -
[2023-08-30 19:42:16,044] ERROR in app: Exception on / [POST]
Traceback (most recent call last):
  File "C:\Users\HP\AppData\Local\Programs\Python\Python311\Lib\site-packages\flask\app.py", line 2190, in wsgi_app
    response = self.full_dispatch_request()
               ^^^^^^^^^^^^^^^^^^^^^^^^^^^^
  File "C:\Users\HP\AppData\Local\Programs\Python\Python311\Lib\site-packages\flask\app.py", line 1487, in full_dispatch_request
    return self.finalize_request(rv)
           ^^^^^^^^^^^^^^^^^^^^^^^^^
  File "C:\Users\HP\AppData\Local\Programs\Python\Python311\Lib\site-packages\flask\app.py", line 1506, in finalize_request
    response = self.make_response(rv)
               ^^^^^^^^^^^^^^^^^^^^^^
  File "C:\Users\HP\AppData\Local\Programs\Python\Python311\Lib\site-packages\flask\app.py", line 1801, in make_response
    raise TypeError(
TypeError: The view function for 'predict' did not return a valid response. The function either returned None or ended without a return statement.
127.0.0.1 - - [30/Aug/2023 19:42:16] "POST / HTTP/1.1" 500 -
[['67' '1' '7' '8' '89.9' '719.9' '56']]
127.0.0.1 - - [30/Aug/2023 19:42:16] "GET /favicon.ico HTTP/1.1" 404 -
